{
  "nbformat": 4,
  "nbformat_minor": 0,
  "metadata": {
    "colab": {
      "provenance": []
    },
    "kernelspec": {
      "name": "python3",
      "display_name": "Python 3"
    },
    "language_info": {
      "name": "python"
    }
  },
  "cells": [
    {
      "cell_type": "code",
      "execution_count": 1,
      "metadata": {
        "colab": {
          "base_uri": "https://localhost:8080/"
        },
        "id": "p33ndvAx7w1C",
        "outputId": "3513b4c8-670a-41a1-da83-5ec41b714e81"
      },
      "outputs": [
        {
          "output_type": "stream",
          "name": "stdout",
          "text": [
            "  |   |  \n",
            "---------\n",
            "  |   |  \n",
            "---------\n",
            "  |   |  \n",
            "Enter your move (1-9): 5\n",
            "O |   |  \n",
            "---------\n",
            "  | X |  \n",
            "---------\n",
            "  |   |  \n",
            "Enter your move (1-9): 4\n",
            "O |   |  \n",
            "---------\n",
            "X | X | O\n",
            "---------\n",
            "  |   |  \n",
            "Enter your move (1-9): 2\n",
            "O | X |  \n",
            "---------\n",
            "X | X | O\n",
            "---------\n",
            "  | O |  \n",
            "Enter your move (1-9): 3\n",
            "O | X | X\n",
            "---------\n",
            "X | X | O\n",
            "---------\n",
            "O | O |  \n",
            "Enter your move (1-9): 9\n",
            "O | X | X\n",
            "---------\n",
            "X | X | O\n",
            "---------\n",
            "O | O | X\n",
            "It's a draw!\n"
          ]
        }
      ],
      "source": [
        "# Create an empty Tic-Tac-Toe board\n",
        "board = [' ' for _ in range(9)]\n",
        "\n",
        "# Constants for players\n",
        "HUMAN = 'X'\n",
        "COMP = 'O'\n",
        "\n",
        "# Define winning combinations\n",
        "WINNING_COMBINATIONS = [\n",
        "    (0, 1, 2), (3, 4, 5), (6, 7, 8),  # Rows\n",
        "    (0, 3, 6), (1, 4, 7), (2, 5, 8),  # Columns\n",
        "    (0, 4, 8), (2, 4, 6)             # Diagonals\n",
        "]\n",
        "\n",
        "# Function to print the Tic-Tac-Toe board\n",
        "def print_board(board):\n",
        "    for i in range(0, 9, 3):\n",
        "        print(board[i], '|', board[i+1], '|', board[i+2])\n",
        "        if i < 6:\n",
        "            print('---------')\n",
        "\n",
        "# Function to check if the board is full\n",
        "def is_board_full(board):\n",
        "    return ' ' not in board\n",
        "\n",
        "# Function to check if a player has won\n",
        "def check_win(board, player):\n",
        "    for combo in WINNING_COMBINATIONS:\n",
        "        if all(board[i] == player for i in combo):\n",
        "            return True\n",
        "    return False\n",
        "\n",
        "# Function to make a player's move\n",
        "def make_move(board, move, player):\n",
        "    if board[move] == ' ':\n",
        "        board[move] = player\n",
        "\n",
        "# Minimax algorithm for the AI\n",
        "def minimax(board, depth, maximizing):\n",
        "    if check_win(board, COMP):\n",
        "        return 1\n",
        "    if check_win(board, HUMAN):\n",
        "        return -1\n",
        "    if is_board_full(board):\n",
        "        return 0\n",
        "\n",
        "    if maximizing:\n",
        "        max_eval = float('-inf')\n",
        "        for i in range(9):\n",
        "            if board[i] == ' ':\n",
        "                board[i] = COMP\n",
        "                eval = minimax(board, depth + 1, False)\n",
        "                board[i] = ' '\n",
        "                max_eval = max(max_eval, eval)\n",
        "        return max_eval\n",
        "    else:\n",
        "        min_eval = float('inf')\n",
        "        for i in range(9):\n",
        "            if board[i] == ' ':\n",
        "                board[i] = HUMAN\n",
        "                eval = minimax(board, depth + 1, True)\n",
        "                board[i] = ' '\n",
        "                min_eval = min(min_eval, eval)\n",
        "        return min_eval\n",
        "\n",
        "# Function to find the AI's best move\n",
        "def find_best_move(board):\n",
        "    best_move = -1\n",
        "    best_eval = float('-inf')\n",
        "    for i in range(9):\n",
        "        if board[i] == ' ':\n",
        "            board[i] = COMP\n",
        "            eval = minimax(board, 0, False)\n",
        "            board[i] = ' '\n",
        "            if eval > best_eval:\n",
        "                best_eval = eval\n",
        "                best_move = i\n",
        "    return best_move\n",
        "\n",
        "# Main game loop\n",
        "while True:\n",
        "    print_board(board)\n",
        "    player_move = int(input(\"Enter your move (1-9): \")) - 1\n",
        "\n",
        "    if 0 <= player_move < 9 and board[player_move] == ' ':\n",
        "        make_move(board, player_move, HUMAN)\n",
        "        if check_win(board, HUMAN):\n",
        "            print_board(board)\n",
        "            print(\"You win!\")\n",
        "            break\n",
        "        elif is_board_full(board):\n",
        "            print_board(board)\n",
        "            print(\"It's a draw!\")\n",
        "            break\n",
        "\n",
        "        ai_move = find_best_move(board)\n",
        "        make_move(board, ai_move, COMP)\n",
        "        if check_win(board, COMP):\n",
        "            print_board(board)\n",
        "            print(\"Computer wins!\")\n",
        "            break\n",
        "        elif is_board_full(board):\n",
        "            print_board(board)\n",
        "            print(\"It's a draw!\")\n",
        "            break\n",
        "    else:\n",
        "        print(\"Invalid move. Try again.\")\n"
      ]
    },
    {
      "cell_type": "code",
      "source": [
        "board = [' ' for _ in range(9)]\n",
        "for i in range(0, 9, 3):\n",
        "        print(board[i], '|', board[i+1], '|', board[i+2])\n",
        "        if i < 6:\n",
        "            print('---------')"
      ],
      "metadata": {
        "colab": {
          "base_uri": "https://localhost:8080/"
        },
        "id": "9QukV1C572-6",
        "outputId": "1b07c422-7579-40f6-b1f0-99f72f7b183d"
      },
      "execution_count": null,
      "outputs": [
        {
          "output_type": "stream",
          "name": "stdout",
          "text": [
            "  |   |  \n",
            "---------\n",
            "  |   |  \n",
            "---------\n",
            "  |   |  \n"
          ]
        }
      ]
    },
    {
      "cell_type": "code",
      "source": [
        "board = [' ' for _ in range(9)]\n",
        "print(board)"
      ],
      "metadata": {
        "colab": {
          "base_uri": "https://localhost:8080/"
        },
        "id": "QZVfEvDoJ2Iu",
        "outputId": "260ee5d0-d62f-4bd2-db0c-6eb8cf819a6c"
      },
      "execution_count": null,
      "outputs": [
        {
          "output_type": "stream",
          "name": "stdout",
          "text": [
            "[' ', ' ', ' ', ' ', ' ', ' ', ' ', ' ', ' ']\n"
          ]
        }
      ]
    },
    {
      "cell_type": "code",
      "source": [],
      "metadata": {
        "id": "MD-PwEXsKhBX"
      },
      "execution_count": null,
      "outputs": []
    }
  ]
}